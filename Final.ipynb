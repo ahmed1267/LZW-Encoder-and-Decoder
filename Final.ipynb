{
 "cells": [
  {
   "cell_type": "code",
   "execution_count": 1,
   "metadata": {},
   "outputs": [],
   "source": [
    "import os\n",
    "import sys\n",
    "from sys import argv"
   ]
  },
  {
   "cell_type": "code",
   "execution_count": 4,
   "metadata": {},
   "outputs": [],
   "source": [
    "def lzw(data):\n",
    "\n",
    "    dlen = 512\n",
    "    d = {chr(i): chr(i) for i in range(dlen)}\n",
    "    t = ''\n",
    "    comp = []\n",
    "    for ele in data:\n",
    "        tele = t + ele\n",
    "        if tele in d:\n",
    "            t = tele\n",
    "        else:\n",
    "            x=d.get(t)\n",
    "            comp.append(x)\n",
    "            d[tele] = dlen\n",
    "            dlen =dlen+1       \n",
    "            t = ele\n",
    "    if t:\n",
    "        v=d.get(t)\n",
    "        comp.append(v)\n",
    "    return comp\n",
    "\n",
    "\n",
    "\n",
    "def unlzw(compdata):\n",
    "    dlen = 512\n",
    "    d = {chr(i): chr(i) for i in range(dlen)}\n",
    "    decomp = compdata.pop(0)\n",
    "    t=decomp\n",
    "    for ele in compdata:\n",
    "        if ele in d:\n",
    "            entry = d[ele]\n",
    "        elif ele == dlen:\n",
    "            entry = t + t[0]\n",
    "        else:\n",
    "            print('Faulty compression')\n",
    "            break\n",
    "        decomp =decomp+entry\n",
    "        d[dlen] = t + entry[0]\n",
    "        dlen=dlen+1\n",
    "        t = entry\n",
    "    return decomp"
   ]
  },
  {
   "cell_type": "code",
   "execution_count": 5,
   "metadata": {},
   "outputs": [
    {
     "data": {
      "text/plain": [
       "''"
      ]
     },
     "execution_count": 5,
     "metadata": {},
     "output_type": "execute_result"
    }
   ],
   "source": [
    "\n",
    "# Example Huffman coding implementation\n",
    "# Distributions are represented as dictionaries of { 'symbol': probability }\n",
    "# Codes are dictionaries too: { 'symbol': 'codeword' }\n",
    "\n",
    "def huffman(p):\n",
    "    '''Return a Huffman code for an ensemble with distribution p.'''\n",
    "    assert(sum(p.values()) == 1.0) # Ensure probabilities sum to 1\n",
    "\n",
    "    # Base case of only two symbols, assign 0 or 1 arbitrarily\n",
    "    if(len(p) == 2):\n",
    "        return dict(zip(p.keys(), ['0', '1']))\n",
    "\n",
    "    # Create a new distribution by merging lowest prob. pair\n",
    "    p_prime = p.copy()\n",
    "    a1, a2 = lowest_prob_pair(p)\n",
    "    p1, p2 = p_prime.pop(a1), p_prime.pop(a2)\n",
    "    p_prime[a1 + a2] = p1 + p2\n",
    "\n",
    "    # Recurse and construct code on new distribution\n",
    "    c = huffman(p_prime)\n",
    "    ca1a2 = c.pop(a1 + a2)\n",
    "    c[a1], c[a2] = ca1a2 + '0', ca1a2 + '1'\n",
    "\n",
    "    return c\n",
    "\n",
    "def lowest_prob_pair(p):\n",
    "    '''Return pair of symbols from distribution p with lowest probabilities.'''\n",
    "    assert(len(p) >= 2) # Ensure there are at least 2 symbols in the dist.\n",
    "\n",
    "    sorted_p = sorted(p.items(), key=lambda i,pi : pi)\n",
    "    return sorted_p[0][0], sorted_p[1][0]\n",
    "\"\""
   ]
  },
  {
   "cell_type": "code",
   "execution_count": 6,
   "metadata": {},
   "outputs": [],
   "source": [
    "f = open(r\"C:\\Users\\Ahmed Adel\\Desktop\\Multi\\enwik8 - Copy.txt\", \"r\",encoding=\"utf8\")"
   ]
  },
  {
   "cell_type": "code",
   "execution_count": 7,
   "metadata": {},
   "outputs": [],
   "source": [
    "ff=f.read()\n"
   ]
  },
  {
   "cell_type": "code",
   "execution_count": 8,
   "metadata": {},
   "outputs": [],
   "source": [
    "l=lzw(ff)\n"
   ]
  },
  {
   "cell_type": "code",
   "execution_count": 9,
   "metadata": {},
   "outputs": [
    {
     "ename": "AttributeError",
     "evalue": "'list' object has no attribute 'values'",
     "output_type": "error",
     "traceback": [
      "\u001b[1;31m---------------------------------------------------------------------------\u001b[0m",
      "\u001b[1;31mAttributeError\u001b[0m                            Traceback (most recent call last)",
      "\u001b[1;32m<ipython-input-9-073186fb399f>\u001b[0m in \u001b[0;36m<module>\u001b[1;34m\u001b[0m\n\u001b[1;32m----> 1\u001b[1;33m \u001b[0mj\u001b[0m\u001b[1;33m=\u001b[0m\u001b[0mhuffman\u001b[0m\u001b[1;33m(\u001b[0m\u001b[0ml\u001b[0m\u001b[1;33m)\u001b[0m\u001b[1;33m\u001b[0m\u001b[1;33m\u001b[0m\u001b[0m\n\u001b[0m",
      "\u001b[1;32m<ipython-input-5-cddf445e77d4>\u001b[0m in \u001b[0;36mhuffman\u001b[1;34m(p)\u001b[0m\n\u001b[0;32m      5\u001b[0m \u001b[1;32mdef\u001b[0m \u001b[0mhuffman\u001b[0m\u001b[1;33m(\u001b[0m\u001b[0mp\u001b[0m\u001b[1;33m)\u001b[0m\u001b[1;33m:\u001b[0m\u001b[1;33m\u001b[0m\u001b[1;33m\u001b[0m\u001b[0m\n\u001b[0;32m      6\u001b[0m     \u001b[1;34m'''Return a Huffman code for an ensemble with distribution p.'''\u001b[0m\u001b[1;33m\u001b[0m\u001b[1;33m\u001b[0m\u001b[0m\n\u001b[1;32m----> 7\u001b[1;33m     \u001b[1;32massert\u001b[0m\u001b[1;33m(\u001b[0m\u001b[0msum\u001b[0m\u001b[1;33m(\u001b[0m\u001b[0mp\u001b[0m\u001b[1;33m.\u001b[0m\u001b[0mvalues\u001b[0m\u001b[1;33m(\u001b[0m\u001b[1;33m)\u001b[0m\u001b[1;33m)\u001b[0m \u001b[1;33m==\u001b[0m \u001b[1;36m1.0\u001b[0m\u001b[1;33m)\u001b[0m \u001b[1;31m# Ensure probabilities sum to 1\u001b[0m\u001b[1;33m\u001b[0m\u001b[1;33m\u001b[0m\u001b[0m\n\u001b[0m\u001b[0;32m      8\u001b[0m \u001b[1;33m\u001b[0m\u001b[0m\n\u001b[0;32m      9\u001b[0m     \u001b[1;31m# Base case of only two symbols, assign 0 or 1 arbitrarily\u001b[0m\u001b[1;33m\u001b[0m\u001b[1;33m\u001b[0m\u001b[1;33m\u001b[0m\u001b[0m\n",
      "\u001b[1;31mAttributeError\u001b[0m: 'list' object has no attribute 'values'"
     ]
    }
   ],
   "source": []
  },
  {
   "cell_type": "code",
   "execution_count": 9,
   "metadata": {},
   "outputs": [],
   "source": [
    "with open(r\"C:\\Users\\Ahmed Adel\\Desktop\\Multi\\ffff.txt\", 'w',encoding='utf-8') as filehandle:\n",
    "    filehandle.writelines(str(ele) for ele in l)"
   ]
  },
  {
   "cell_type": "code",
   "execution_count": null,
   "metadata": {},
   "outputs": [],
   "source": [
    "r=unlzw(l)"
   ]
  }
 ],
 "metadata": {
  "kernelspec": {
   "display_name": "Python 3",
   "language": "python",
   "name": "python3"
  },
  "language_info": {
   "codemirror_mode": {
    "name": "ipython",
    "version": 3
   },
   "file_extension": ".py",
   "mimetype": "text/x-python",
   "name": "python",
   "nbconvert_exporter": "python",
   "pygments_lexer": "ipython3",
   "version": "3.7.4"
  }
 },
 "nbformat": 4,
 "nbformat_minor": 2
}
